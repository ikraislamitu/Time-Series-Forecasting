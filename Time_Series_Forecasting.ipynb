{
  "nbformat": 4,
  "nbformat_minor": 0,
  "metadata": {
    "colab": {
      "provenance": []
    },
    "kernelspec": {
      "name": "python3",
      "display_name": "Python 3"
    },
    "language_info": {
      "name": "python"
    }
  },
  "cells": [
    {
      "cell_type": "code",
      "execution_count": null,
      "metadata": {
        "id": "DiMnapIn9ppe"
      },
      "outputs": [],
      "source": [
        ".\n",
        "├── README.md\n",
        "├── data\n",
        "│   ├── bank_activity.csv           # Placeholder for the dataset\n",
        "├── models\n",
        "│   └── temporal_transformer.py     # Temporal Diffusion Transformer model\n",
        "├── notebooks\n",
        "│   └── anomaly_detection.ipynb     # Jupyter Notebook for data analysis and anomaly detection\n",
        "├── src\n",
        "│   ├── preprocessing.py            # Data preprocessing scripts\n",
        "│   ├── train.py                    # Script to train the model\n",
        "│   ├── evaluate.py                 # Script to evaluate and identify anomalies\n",
        "└── requirements.txt                # Python dependencies\n"
      ]
    },
    {
      "cell_type": "code",
      "source": [
        "# preprocessing.py\n",
        "import pandas as pd\n",
        "from sklearn.preprocessing import StandardScaler\n",
        "\n",
        "def preprocess_data(file_path):\n",
        "    df = pd.read_csv(file_path)\n",
        "    # Fill missing values, normalize features\n",
        "    df.fillna(method='ffill', inplace=True)\n",
        "    scaler = StandardScaler()\n",
        "    df[['debit_active_accounts']] = scaler.fit_transform(df[['debit_active_accounts']])\n",
        "    return df\n"
      ],
      "metadata": {
        "id": "BnpfjcqK9rR8"
      },
      "execution_count": 1,
      "outputs": []
    },
    {
      "cell_type": "code",
      "source": [
        "# temporal_transformer.py\n",
        "import torch\n",
        "import torch.nn as nn\n",
        "\n",
        "class TemporalTransformer(nn.Module):\n",
        "    def __init__(self, input_dim, num_heads, num_layers):\n",
        "        super(TemporalTransformer, self).__init__()\n",
        "        self.encoder_layer = nn.TransformerEncoderLayer(d_model=input_dim, nhead=num_heads)\n",
        "        self.transformer = nn.TransformerEncoder(self.encoder_layer, num_layers=num_layers)\n",
        "        self.fc = nn.Linear(input_dim, 1) # Predict debit active accounts\n",
        "\n",
        "    def forward(self, x):\n",
        "        x = self.transformer(x)\n",
        "        output = self.fc(x)\n",
        "        return output\n"
      ],
      "metadata": {
        "id": "67WX8W_U9u7r"
      },
      "execution_count": 2,
      "outputs": []
    },
    {
      "cell_type": "code",
      "source": [
        "import torch\n",
        "import torch.nn as nn\n",
        "\n",
        "class TemporalTransformer(nn.Module):\n",
        "    def __init__(self, input_dim, num_heads, num_layers):\n",
        "        super(TemporalTransformer, self).__init__()\n",
        "        self.transformer = nn.Transformer(\n",
        "            d_model=input_dim,\n",
        "            nhead=num_heads,\n",
        "            num_encoder_layers=num_layers,\n",
        "            num_decoder_layers=num_layers\n",
        "        )\n",
        "        self.fc = nn.Linear(input_dim, 1)  # Example final layer\n",
        "\n",
        "    def forward(self, x):\n",
        "        # Assuming x has shape (batch_size, seq_length, input_dim)\n",
        "        x = x.permute(1, 0, 2)  # Transformer expects (seq_length, batch_size, input_dim)\n",
        "        x = self.transformer(x, x)\n",
        "        x = x.permute(1, 0, 2)  # Back to (batch_size, seq_length, input_dim)\n",
        "        x = self.fc(x[:, -1, :])  # Predict based on the last time step\n",
        "        return x\n"
      ],
      "metadata": {
        "id": "6KSxAwti9wUs"
      },
      "execution_count": 5,
      "outputs": []
    },
    {
      "cell_type": "code",
      "source": [
        "import matplotlib.pyplot as plt\n",
        "\n",
        "def plot_anomalies(df, anomalies):\n",
        "    plt.plot(df['date'], df['debit_active_accounts'], label='Debit Active Accounts')\n",
        "    plt.scatter(df['date'].iloc[anomalies], df['debit_active_accounts'].iloc[anomalies], color='red', label='Anomalies')\n",
        "    plt.legend()\n",
        "    plt.show()\n"
      ],
      "metadata": {
        "id": "qkxtwCwr-TXk"
      },
      "execution_count": 6,
      "outputs": []
    },
    {
      "cell_type": "code",
      "source": [
        "# Install necessary packages\n",
        "!pip install torch pandas scikit-learn matplotlib seaborn numpy\n",
        "\n",
        "# Generate requirements.txt\n",
        "!pip freeze > requirements.txt\n"
      ],
      "metadata": {
        "colab": {
          "base_uri": "https://localhost:8080/"
        },
        "id": "4JEyRfKL-Vp2",
        "outputId": "25c849ea-97e8-476a-810b-98b0b51ba993"
      },
      "execution_count": 9,
      "outputs": [
        {
          "output_type": "stream",
          "name": "stdout",
          "text": [
            "Requirement already satisfied: torch in /usr/local/lib/python3.10/dist-packages (2.4.1+cu121)\n",
            "Requirement already satisfied: pandas in /usr/local/lib/python3.10/dist-packages (2.2.2)\n",
            "Requirement already satisfied: scikit-learn in /usr/local/lib/python3.10/dist-packages (1.5.2)\n",
            "Requirement already satisfied: matplotlib in /usr/local/lib/python3.10/dist-packages (3.7.1)\n",
            "Requirement already satisfied: seaborn in /usr/local/lib/python3.10/dist-packages (0.13.1)\n",
            "Requirement already satisfied: numpy in /usr/local/lib/python3.10/dist-packages (1.26.4)\n",
            "Requirement already satisfied: filelock in /usr/local/lib/python3.10/dist-packages (from torch) (3.16.1)\n",
            "Requirement already satisfied: typing-extensions>=4.8.0 in /usr/local/lib/python3.10/dist-packages (from torch) (4.12.2)\n",
            "Requirement already satisfied: sympy in /usr/local/lib/python3.10/dist-packages (from torch) (1.13.3)\n",
            "Requirement already satisfied: networkx in /usr/local/lib/python3.10/dist-packages (from torch) (3.3)\n",
            "Requirement already satisfied: jinja2 in /usr/local/lib/python3.10/dist-packages (from torch) (3.1.4)\n",
            "Requirement already satisfied: fsspec in /usr/local/lib/python3.10/dist-packages (from torch) (2024.6.1)\n",
            "Requirement already satisfied: python-dateutil>=2.8.2 in /usr/local/lib/python3.10/dist-packages (from pandas) (2.8.2)\n",
            "Requirement already satisfied: pytz>=2020.1 in /usr/local/lib/python3.10/dist-packages (from pandas) (2024.2)\n",
            "Requirement already satisfied: tzdata>=2022.7 in /usr/local/lib/python3.10/dist-packages (from pandas) (2024.2)\n",
            "Requirement already satisfied: scipy>=1.6.0 in /usr/local/lib/python3.10/dist-packages (from scikit-learn) (1.13.1)\n",
            "Requirement already satisfied: joblib>=1.2.0 in /usr/local/lib/python3.10/dist-packages (from scikit-learn) (1.4.2)\n",
            "Requirement already satisfied: threadpoolctl>=3.1.0 in /usr/local/lib/python3.10/dist-packages (from scikit-learn) (3.5.0)\n",
            "Requirement already satisfied: contourpy>=1.0.1 in /usr/local/lib/python3.10/dist-packages (from matplotlib) (1.3.0)\n",
            "Requirement already satisfied: cycler>=0.10 in /usr/local/lib/python3.10/dist-packages (from matplotlib) (0.12.1)\n",
            "Requirement already satisfied: fonttools>=4.22.0 in /usr/local/lib/python3.10/dist-packages (from matplotlib) (4.54.1)\n",
            "Requirement already satisfied: kiwisolver>=1.0.1 in /usr/local/lib/python3.10/dist-packages (from matplotlib) (1.4.7)\n",
            "Requirement already satisfied: packaging>=20.0 in /usr/local/lib/python3.10/dist-packages (from matplotlib) (24.1)\n",
            "Requirement already satisfied: pillow>=6.2.0 in /usr/local/lib/python3.10/dist-packages (from matplotlib) (10.4.0)\n",
            "Requirement already satisfied: pyparsing>=2.3.1 in /usr/local/lib/python3.10/dist-packages (from matplotlib) (3.1.4)\n",
            "Requirement already satisfied: six>=1.5 in /usr/local/lib/python3.10/dist-packages (from python-dateutil>=2.8.2->pandas) (1.16.0)\n",
            "Requirement already satisfied: MarkupSafe>=2.0 in /usr/local/lib/python3.10/dist-packages (from jinja2->torch) (2.1.5)\n",
            "Requirement already satisfied: mpmath<1.4,>=1.1.0 in /usr/local/lib/python3.10/dist-packages (from sympy->torch) (1.3.0)\n"
          ]
        }
      ]
    }
  ]
}